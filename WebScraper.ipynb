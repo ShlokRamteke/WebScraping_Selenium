{
 "cells": [
  {
   "cell_type": "markdown",
   "id": "b3196021-a42e-483d-b7a3-dabe899efda2",
   "metadata": {},
   "source": [
    "## Web Scarping using Selenium"
   ]
  },
  {
   "cell_type": "markdown",
   "id": "7f6c281b-363c-46ed-a502-706e852c1ed6",
   "metadata": {},
   "source": [
    "This notebook contains the code to scrape data for 1000 popular books on www.gutenberg.com"
   ]
  },
  {
   "cell_type": "markdown",
   "id": "4220183d-8211-406b-a79a-0469d9a9267e",
   "metadata": {},
   "source": [
    "Importing the required libraries"
   ]
  },
  {
   "cell_type": "code",
   "execution_count": 2,
   "metadata": {},
   "outputs": [],
   "source": [
    "import pandas as pd\n",
    "import re as re"
   ]
  },
  {
   "cell_type": "markdown",
   "metadata": {},
   "source": [
    "Setting up selenium to browser and driver. I am using Firefox for the browser. The driver used can be download from [here](https://github.com/mozilla/geckodriver/releases)"
   ]
  },
  {
   "cell_type": "code",
   "execution_count": 3,
   "id": "8089b036-0512-4a2e-a6d2-2b0350d53419",
   "metadata": {},
   "outputs": [],
   "source": [
    "from selenium import webdriver \n",
    "from selenium.webdriver.firefox.service import Service\n",
    "s=Service(\"D:\\Setups\\geckodriver-v0.30.0-win64\\geckodriver.exe\")\n",
    "driver = webdriver.Firefox(service=s)"
   ]
  },
  {
   "cell_type": "markdown",
   "metadata": {},
   "source": [
    "Connecting to the website."
   ]
  },
  {
   "cell_type": "code",
   "execution_count": 4,
   "id": "239dd85f-0487-4f93-a6ce-68a927fc784b",
   "metadata": {},
   "outputs": [],
   "source": [
    "driver.get('https://www.gutenberg.org/ebooks/search/?sort_order=downloads')"
   ]
  },
  {
   "cell_type": "markdown",
   "metadata": {},
   "source": [
    "Finding the required class to scrape for data regarding the books"
   ]
  },
  {
   "cell_type": "code",
   "execution_count": null,
   "id": "68bd375e-1624-4728-a1b0-1763574b8dfc",
   "metadata": {},
   "outputs": [],
   "source": [
    "books=driver.find_elements_by_class_name('booklink')\n",
    "len(books)\n",
    "print(books[-1].text)\n"
   ]
  },
  {
   "cell_type": "markdown",
   "metadata": {},
   "source": [
    "Extracting the author and total download information"
   ]
  },
  {
   "cell_type": "code",
   "execution_count": null,
   "metadata": {},
   "outputs": [],
   "source": [
    "name=books[0].find_elements_by_class_name('title')[0].text\n",
    "author=books[0].find_elements_by_class_name('subtitle')[0].text\n",
    "#total_downloads=books[0].find_elements_by_class_name('extra')[0].text\n",
    "print(name)\n",
    "print(author)\n",
    "#print(total_downloads)"
   ]
  },
  {
   "cell_type": "markdown",
   "metadata": {},
   "source": [
    "Script to extract data from the page and iterate to next page."
   ]
  },
  {
   "cell_type": "code",
   "execution_count": null,
   "metadata": {},
   "outputs": [],
   "source": [
    "count = 0\n",
    "index=0\n",
    "df=pd.DataFrame(columns=['Name', 'Author', 'Total Downloads'])\n",
    "name_list=[]\n",
    "author_list=[]\n",
    "total_downloads_list=[]\n",
    "while True:\n",
    "    if count==40:\n",
    "        break\n",
    "    count+=1\n",
    "    print('page ',count)\n",
    "    books = driver.find_elements_by_class_name('booklink')\n",
    "    \n",
    "    for book in books:\n",
    "        try:\n",
    "            name_list.append(book.find_elements_by_class_name('title')[0].text)\n",
    "            try:\n",
    "                author_list.append(book.find_elements_by_class_name('subtitle')[0].text)\n",
    "               # df['Author'].append(author)\n",
    "            except:\n",
    "                author_list.append('Not availbale')\n",
    "               # df['Author'].append(author)\n",
    "            try:\n",
    "                total_downloads_list.append(book.find_elements_by_class_name('extra')[0].text)\n",
    "                #df['Total Downloads'].append(total_downloads)\n",
    "            except:\n",
    "                total_downloads_list.append('Not availbale')\n",
    "               # df['Total Downloads'].append(total_downloads)\n",
    "            \n",
    "            \n",
    "            index+=1\n",
    "            \n",
    "        except:\n",
    "            pass\n",
    "    try:    \n",
    "        driver.find_elements_by_class_name('statusline')[0].find_elements_by_tag_name('a')[-1].click()\n",
    "    except:\n",
    "        break\n",
    "    print('|'*100)\n",
    "df[\"Name\"]=name_list\n",
    "df[\"Author\"]=author_list\n",
    "df[\"Total Downloads\"]=total_downloads_list\n",
    "print(df)\n"
   ]
  },
  {
   "cell_type": "code",
   "execution_count": null,
   "metadata": {},
   "outputs": [],
   "source": [
    "def find_number(text):\n",
    "    num = re.findall(r'[0-9]+',text)\n",
    "    return \" \".join(num)\n",
    "df['number']=df['Total Downloads'].apply(lambda x: find_number(x))\n",
    "print(\"\\Extracting numbers from dataframe columns:\")\n",
    "df.head()"
   ]
  },
  {
   "cell_type": "code",
   "execution_count": null,
   "metadata": {},
   "outputs": [],
   "source": [
    "df.drop('Total Downloads', axis=1, inplace=True)\n"
   ]
  },
  {
   "cell_type": "code",
   "execution_count": 13,
   "metadata": {},
   "outputs": [
    {
     "data": {
      "text/html": [
       "<div>\n",
       "<style scoped>\n",
       "    .dataframe tbody tr th:only-of-type {\n",
       "        vertical-align: middle;\n",
       "    }\n",
       "\n",
       "    .dataframe tbody tr th {\n",
       "        vertical-align: top;\n",
       "    }\n",
       "\n",
       "    .dataframe thead th {\n",
       "        text-align: right;\n",
       "    }\n",
       "</style>\n",
       "<table border=\"1\" class=\"dataframe\">\n",
       "  <thead>\n",
       "    <tr style=\"text-align: right;\">\n",
       "      <th></th>\n",
       "      <th>Name</th>\n",
       "      <th>Author</th>\n",
       "      <th>Total Downloads</th>\n",
       "    </tr>\n",
       "  </thead>\n",
       "  <tbody>\n",
       "    <tr>\n",
       "      <th>0</th>\n",
       "      <td>Frankenstein; Or, The Modern Prometheus</td>\n",
       "      <td>Mary Wollstonecraft Shelley</td>\n",
       "      <td>78200</td>\n",
       "    </tr>\n",
       "    <tr>\n",
       "      <th>1</th>\n",
       "      <td>Pride and Prejudice</td>\n",
       "      <td>Jane Austen</td>\n",
       "      <td>55091</td>\n",
       "    </tr>\n",
       "    <tr>\n",
       "      <th>2</th>\n",
       "      <td>The Scarlet Letter</td>\n",
       "      <td>Nathaniel Hawthorne</td>\n",
       "      <td>37178</td>\n",
       "    </tr>\n",
       "    <tr>\n",
       "      <th>3</th>\n",
       "      <td>Alice's Adventures in Wonderland</td>\n",
       "      <td>Lewis Carroll</td>\n",
       "      <td>28310</td>\n",
       "    </tr>\n",
       "    <tr>\n",
       "      <th>4</th>\n",
       "      <td>Dracula</td>\n",
       "      <td>Bram Stoker</td>\n",
       "      <td>25993</td>\n",
       "    </tr>\n",
       "  </tbody>\n",
       "</table>\n",
       "</div>"
      ],
      "text/plain": [
       "                                      Name                       Author  \\\n",
       "0  Frankenstein; Or, The Modern Prometheus  Mary Wollstonecraft Shelley   \n",
       "1                      Pride and Prejudice                  Jane Austen   \n",
       "2                       The Scarlet Letter          Nathaniel Hawthorne   \n",
       "3         Alice's Adventures in Wonderland                Lewis Carroll   \n",
       "4                                  Dracula                  Bram Stoker   \n",
       "\n",
       "  Total Downloads  \n",
       "0           78200  \n",
       "1           55091  \n",
       "2           37178  \n",
       "3           28310  \n",
       "4           25993  "
      ]
     },
     "execution_count": 13,
     "metadata": {},
     "output_type": "execute_result"
    }
   ],
   "source": [
    "df = df.rename(columns={\"number\":\"Total Downloads\"})\n",
    "df.head()"
   ]
  },
  {
   "cell_type": "markdown",
   "metadata": {},
   "source": [
    "Saving the dataframe to csv file"
   ]
  },
  {
   "cell_type": "code",
   "execution_count": 27,
   "metadata": {},
   "outputs": [],
   "source": [
    "df.to_csv('popular_books.csv')"
   ]
  },
  {
   "cell_type": "code",
   "execution_count": null,
   "metadata": {},
   "outputs": [],
   "source": []
  }
 ],
 "metadata": {
  "interpreter": {
   "hash": "4ce0e62306dd6a5716965d4519ada776f947e6dfc145b604b11307c10277ef29"
  },
  "kernelspec": {
   "display_name": "Python 3.8.10 64-bit",
   "name": "python3"
  },
  "language_info": {
   "codemirror_mode": {
    "name": "ipython",
    "version": 3
   },
   "file_extension": ".py",
   "mimetype": "text/x-python",
   "name": "python",
   "nbconvert_exporter": "python",
   "pygments_lexer": "ipython3",
   "version": "3.8.10"
  }
 },
 "nbformat": 4,
 "nbformat_minor": 5
}
