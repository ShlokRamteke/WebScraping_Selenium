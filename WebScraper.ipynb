{
 "cells": [
  {
   "cell_type": "markdown",
   "id": "b3196021-a42e-483d-b7a3-dabe899efda2",
   "metadata": {},
   "source": [
    "## Web Scarping using Selenium"
   ]
  },
  {
   "cell_type": "markdown",
   "id": "7f6c281b-363c-46ed-a502-706e852c1ed6",
   "metadata": {},
   "source": [
    "This notebook contains the code to scrape data for 1000 popular books on www.gutenberg.com"
   ]
  },
  {
   "cell_type": "markdown",
   "id": "4220183d-8211-406b-a79a-0469d9a9267e",
   "metadata": {},
   "source": [
    "Importing the required libraries"
   ]
  },
  {
   "cell_type": "code",
   "execution_count": 20,
   "metadata": {},
   "outputs": [],
   "source": [
    "import pandas as pd"
   ]
  },
  {
   "cell_type": "markdown",
   "metadata": {},
   "source": [
    "Setting up selenium to browser and driver. I am using Firefox for the browser. The driver used can be download from [here](https://github.com/mozilla/geckodriver/releases)"
   ]
  },
  {
   "cell_type": "code",
   "execution_count": 21,
   "id": "8089b036-0512-4a2e-a6d2-2b0350d53419",
   "metadata": {},
   "outputs": [],
   "source": [
    "from selenium import webdriver \n",
    "from selenium.webdriver.firefox.service import Service\n",
    "s=Service(\"D:\\Setups\\geckodriver-v0.30.0-win64\\geckodriver.exe\")\n",
    "driver = webdriver.Firefox(service=s)"
   ]
  },
  {
   "cell_type": "markdown",
   "metadata": {},
   "source": [
    "Connecting to the website."
   ]
  },
  {
   "cell_type": "code",
   "execution_count": 23,
   "id": "239dd85f-0487-4f93-a6ce-68a927fc784b",
   "metadata": {},
   "outputs": [],
   "source": [
    "driver.get('https://www.gutenberg.org/ebooks/search/?sort_order=downloads')"
   ]
  },
  {
   "cell_type": "markdown",
   "metadata": {},
   "source": [
    "Finding the required class to scrape for data regarding the books"
   ]
  },
  {
   "cell_type": "code",
   "execution_count": 24,
   "id": "68bd375e-1624-4728-a1b0-1763574b8dfc",
   "metadata": {},
   "outputs": [
    {
     "name": "stdout",
     "output_type": "stream",
     "text": [
      "Grimms' Fairy Tales\n",
      "Jacob Grimm and Wilhelm Grimm\n",
      "14420 downloads\n"
     ]
    },
    {
     "name": "stderr",
     "output_type": "stream",
     "text": [
      "C:\\Users\\SHLOKR~1\\AppData\\Local\\Temp/ipykernel_27336/2740133046.py:1: DeprecationWarning: find_elements_by_* commands are deprecated. Please use find_elements() instead\n",
      "  books=driver.find_elements_by_class_name('booklink')\n"
     ]
    }
   ],
   "source": [
    "books=driver.find_elements_by_class_name('booklink')\n",
    "len(books)\n",
    "print(books[-1].text)\n"
   ]
  },
  {
   "cell_type": "markdown",
   "metadata": {},
   "source": [
    "Extracting the author and total download information"
   ]
  },
  {
   "cell_type": "code",
   "execution_count": 25,
   "metadata": {},
   "outputs": [
    {
     "name": "stdout",
     "output_type": "stream",
     "text": [
      "Frankenstein; Or, The Modern Prometheus\n",
      "Mary Wollstonecraft Shelley\n"
     ]
    },
    {
     "name": "stderr",
     "output_type": "stream",
     "text": [
      "D:\\Python\\lib\\site-packages\\selenium\\webdriver\\remote\\webelement.py:463: UserWarning: find_elements_by_* commands are deprecated. Please use find_elements() instead\n",
      "  warnings.warn(\"find_elements_by_* commands are deprecated. Please use find_elements() instead\")\n"
     ]
    }
   ],
   "source": [
    "name=books[0].find_elements_by_class_name('title')[0].text\n",
    "author=books[0].find_elements_by_class_name('subtitle')[0].text\n",
    "#total_downloads=books[0].find_elements_by_class_name('extra')[0].text\n",
    "print(name)\n",
    "print(author)\n",
    "#print(total_downloads)"
   ]
  },
  {
   "cell_type": "markdown",
   "metadata": {},
   "source": [
    "Script to extract data from the page and iterate to next page."
   ]
  },
  {
   "cell_type": "code",
   "execution_count": 26,
   "metadata": {},
   "outputs": [
    {
     "name": "stdout",
     "output_type": "stream",
     "text": [
      "page  1\n"
     ]
    },
    {
     "name": "stderr",
     "output_type": "stream",
     "text": [
      "C:\\Users\\SHLOKR~1\\AppData\\Local\\Temp/ipykernel_27336/2620929844.py:12: DeprecationWarning: find_elements_by_* commands are deprecated. Please use find_elements() instead\n",
      "  books = driver.find_elements_by_class_name('booklink')\n",
      "C:\\Users\\SHLOKR~1\\AppData\\Local\\Temp/ipykernel_27336/2620929844.py:36: DeprecationWarning: find_elements_by_* commands are deprecated. Please use find_elements() instead\n",
      "  driver.find_elements_by_class_name('statusline')[0].find_elements_by_tag_name('a')[-1].click()\n",
      "D:\\Python\\lib\\site-packages\\selenium\\webdriver\\remote\\webelement.py:358: UserWarning: find_elements_by_* commands are deprecated. Please use find_elements() instead\n",
      "  warnings.warn(\"find_elements_by_* commands are deprecated. Please use find_elements() instead\")\n"
     ]
    },
    {
     "name": "stdout",
     "output_type": "stream",
     "text": [
      "||||||||||||||||||||||||||||||||||||||||||||||||||||||||||||||||||||||||||||||||||||||||||||||||||||\n",
      "page  2\n",
      "||||||||||||||||||||||||||||||||||||||||||||||||||||||||||||||||||||||||||||||||||||||||||||||||||||\n",
      "page  3\n",
      "||||||||||||||||||||||||||||||||||||||||||||||||||||||||||||||||||||||||||||||||||||||||||||||||||||\n",
      "page  4\n",
      "||||||||||||||||||||||||||||||||||||||||||||||||||||||||||||||||||||||||||||||||||||||||||||||||||||\n",
      "page  5\n",
      "||||||||||||||||||||||||||||||||||||||||||||||||||||||||||||||||||||||||||||||||||||||||||||||||||||\n",
      "page  6\n",
      "||||||||||||||||||||||||||||||||||||||||||||||||||||||||||||||||||||||||||||||||||||||||||||||||||||\n",
      "page  7\n",
      "||||||||||||||||||||||||||||||||||||||||||||||||||||||||||||||||||||||||||||||||||||||||||||||||||||\n",
      "page  8\n",
      "||||||||||||||||||||||||||||||||||||||||||||||||||||||||||||||||||||||||||||||||||||||||||||||||||||\n",
      "page  9\n",
      "||||||||||||||||||||||||||||||||||||||||||||||||||||||||||||||||||||||||||||||||||||||||||||||||||||\n",
      "page  10\n",
      "||||||||||||||||||||||||||||||||||||||||||||||||||||||||||||||||||||||||||||||||||||||||||||||||||||\n",
      "page  11\n",
      "||||||||||||||||||||||||||||||||||||||||||||||||||||||||||||||||||||||||||||||||||||||||||||||||||||\n",
      "page  12\n",
      "||||||||||||||||||||||||||||||||||||||||||||||||||||||||||||||||||||||||||||||||||||||||||||||||||||\n",
      "page  13\n",
      "||||||||||||||||||||||||||||||||||||||||||||||||||||||||||||||||||||||||||||||||||||||||||||||||||||\n",
      "page  14\n",
      "||||||||||||||||||||||||||||||||||||||||||||||||||||||||||||||||||||||||||||||||||||||||||||||||||||\n",
      "page  15\n",
      "||||||||||||||||||||||||||||||||||||||||||||||||||||||||||||||||||||||||||||||||||||||||||||||||||||\n",
      "page  16\n",
      "||||||||||||||||||||||||||||||||||||||||||||||||||||||||||||||||||||||||||||||||||||||||||||||||||||\n",
      "page  17\n",
      "||||||||||||||||||||||||||||||||||||||||||||||||||||||||||||||||||||||||||||||||||||||||||||||||||||\n",
      "page  18\n",
      "||||||||||||||||||||||||||||||||||||||||||||||||||||||||||||||||||||||||||||||||||||||||||||||||||||\n",
      "page  19\n",
      "||||||||||||||||||||||||||||||||||||||||||||||||||||||||||||||||||||||||||||||||||||||||||||||||||||\n",
      "page  20\n",
      "||||||||||||||||||||||||||||||||||||||||||||||||||||||||||||||||||||||||||||||||||||||||||||||||||||\n",
      "page  21\n",
      "||||||||||||||||||||||||||||||||||||||||||||||||||||||||||||||||||||||||||||||||||||||||||||||||||||\n",
      "page  22\n",
      "||||||||||||||||||||||||||||||||||||||||||||||||||||||||||||||||||||||||||||||||||||||||||||||||||||\n",
      "page  23\n",
      "||||||||||||||||||||||||||||||||||||||||||||||||||||||||||||||||||||||||||||||||||||||||||||||||||||\n",
      "page  24\n",
      "||||||||||||||||||||||||||||||||||||||||||||||||||||||||||||||||||||||||||||||||||||||||||||||||||||\n",
      "page  25\n",
      "||||||||||||||||||||||||||||||||||||||||||||||||||||||||||||||||||||||||||||||||||||||||||||||||||||\n",
      "page  26\n",
      "||||||||||||||||||||||||||||||||||||||||||||||||||||||||||||||||||||||||||||||||||||||||||||||||||||\n",
      "page  27\n",
      "||||||||||||||||||||||||||||||||||||||||||||||||||||||||||||||||||||||||||||||||||||||||||||||||||||\n",
      "page  28\n",
      "||||||||||||||||||||||||||||||||||||||||||||||||||||||||||||||||||||||||||||||||||||||||||||||||||||\n",
      "page  29\n",
      "||||||||||||||||||||||||||||||||||||||||||||||||||||||||||||||||||||||||||||||||||||||||||||||||||||\n",
      "page  30\n",
      "||||||||||||||||||||||||||||||||||||||||||||||||||||||||||||||||||||||||||||||||||||||||||||||||||||\n",
      "page  31\n",
      "||||||||||||||||||||||||||||||||||||||||||||||||||||||||||||||||||||||||||||||||||||||||||||||||||||\n",
      "page  32\n",
      "||||||||||||||||||||||||||||||||||||||||||||||||||||||||||||||||||||||||||||||||||||||||||||||||||||\n",
      "page  33\n",
      "||||||||||||||||||||||||||||||||||||||||||||||||||||||||||||||||||||||||||||||||||||||||||||||||||||\n",
      "page  34\n",
      "||||||||||||||||||||||||||||||||||||||||||||||||||||||||||||||||||||||||||||||||||||||||||||||||||||\n",
      "page  35\n",
      "||||||||||||||||||||||||||||||||||||||||||||||||||||||||||||||||||||||||||||||||||||||||||||||||||||\n",
      "page  36\n",
      "||||||||||||||||||||||||||||||||||||||||||||||||||||||||||||||||||||||||||||||||||||||||||||||||||||\n",
      "page  37\n",
      "||||||||||||||||||||||||||||||||||||||||||||||||||||||||||||||||||||||||||||||||||||||||||||||||||||\n",
      "page  38\n",
      "||||||||||||||||||||||||||||||||||||||||||||||||||||||||||||||||||||||||||||||||||||||||||||||||||||\n",
      "page  39\n",
      "||||||||||||||||||||||||||||||||||||||||||||||||||||||||||||||||||||||||||||||||||||||||||||||||||||\n",
      "page  40\n",
      "||||||||||||||||||||||||||||||||||||||||||||||||||||||||||||||||||||||||||||||||||||||||||||||||||||\n",
      "                                                  Name  \\\n",
      "0              Frankenstein; Or, The Modern Prometheus   \n",
      "1                                  Pride and Prejudice   \n",
      "2                                   The Scarlet Letter   \n",
      "3                     Alice's Adventures in Wonderland   \n",
      "4                                              Dracula   \n",
      "..                                                 ...   \n",
      "995    English-Bisaya Grammar, in Twenty Eight Lessons   \n",
      "996              Whose Body? A Lord Peter Wimsey Novel   \n",
      "997                              Sense and Sensibility   \n",
      "998  The Convent School; Or, Early Experiences of a...   \n",
      "999   The Pioneers; Or, The Sources of the Susquehanna   \n",
      "\n",
      "                          Author  Total Downloads  \n",
      "0    Mary Wollstonecraft Shelley  78200 downloads  \n",
      "1                    Jane Austen  55091 downloads  \n",
      "2            Nathaniel Hawthorne  37178 downloads  \n",
      "3                  Lewis Carroll  28310 downloads  \n",
      "4                    Bram Stoker  25993 downloads  \n",
      "..                           ...              ...  \n",
      "995                Not availbale    624 downloads  \n",
      "996            Dorothy L. Sayers    623 downloads  \n",
      "997                  Jane Austen    623 downloads  \n",
      "998           Rosa Belinda Coote    622 downloads  \n",
      "999        James Fenimore Cooper    622 downloads  \n",
      "\n",
      "[1000 rows x 3 columns]\n"
     ]
    }
   ],
   "source": [
    "\n",
    "count = 0\n",
    "index=0\n",
    "df=pd.DataFrame(columns=['Name', 'Author', 'Total Downloads'])\n",
    "name_list=[]\n",
    "author_list=[]\n",
    "total_downloads_list=[]\n",
    "while True:\n",
    "    if count==40:\n",
    "        break\n",
    "    count+=1\n",
    "    print('page ',count)\n",
    "    books = driver.find_elements_by_class_name('booklink')\n",
    "    \n",
    "    for book in books:\n",
    "        try:\n",
    "            name_list.append(book.find_elements_by_class_name('title')[0].text)\n",
    "            try:\n",
    "                author_list.append(book.find_elements_by_class_name('subtitle')[0].text)\n",
    "               # df['Author'].append(author)\n",
    "            except:\n",
    "                author_list.append('Not availbale')\n",
    "               # df['Author'].append(author)\n",
    "            try:\n",
    "                total_downloads_list.append(book.find_elements_by_class_name('extra')[0].text)\n",
    "                #df['Total Downloads'].append(total_downloads)\n",
    "            except:\n",
    "                total_downloads_list.append('Not availbale')\n",
    "               # df['Total Downloads'].append(total_downloads)\n",
    "            \n",
    "            \n",
    "            index+=1\n",
    "            \n",
    "        except:\n",
    "            pass\n",
    "    try:    \n",
    "        driver.find_elements_by_class_name('statusline')[0].find_elements_by_tag_name('a')[-1].click()\n",
    "    except:\n",
    "        break\n",
    "    print('|'*100)\n",
    "df[\"Name\"]=name_list\n",
    "df[\"Author\"]=author_list\n",
    "df[\"Total Downloads\"]=total_downloads_list\n",
    "print(df)\n"
   ]
  },
  {
   "cell_type": "markdown",
   "metadata": {},
   "source": [
    "Saving the dataframe to csv file"
   ]
  },
  {
   "cell_type": "code",
   "execution_count": 27,
   "metadata": {},
   "outputs": [],
   "source": [
    "df.to_csv('popular_books.csv')"
   ]
  },
  {
   "cell_type": "code",
   "execution_count": null,
   "metadata": {},
   "outputs": [],
   "source": []
  }
 ],
 "metadata": {
  "interpreter": {
   "hash": "4ce0e62306dd6a5716965d4519ada776f947e6dfc145b604b11307c10277ef29"
  },
  "kernelspec": {
   "display_name": "Python 3.8.10 64-bit",
   "name": "python3"
  },
  "language_info": {
   "codemirror_mode": {
    "name": "ipython",
    "version": 3
   },
   "file_extension": ".py",
   "mimetype": "text/x-python",
   "name": "python",
   "nbconvert_exporter": "python",
   "pygments_lexer": "ipython3",
   "version": "3.8.10"
  }
 },
 "nbformat": 4,
 "nbformat_minor": 5
}
